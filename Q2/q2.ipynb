{
 "cells": [
  {
   "cell_type": "code",
   "execution_count": 1,
   "id": "05a504ca",
   "metadata": {},
   "outputs": [
    {
     "name": "stdout",
     "output_type": "stream",
     "text": [
      "*** Annual Temperature Report for Seoul in 2022 ***\n",
      "Day with the Largest Temperature Variation: 2022-11-29\n",
      "Maximum Temperature Difference: 16.6\n",
      "Day with the Smallest Temperature Variation: 2022-06-29\n",
      "Minimum Temperature Difference: 1.7\n"
     ]
    }
   ],
   "source": [
    "import csv\n",
    "\n",
    "if __name__ == '__main__':\n",
    "\n",
    "    f = open('2022_Seoul_Temp.csv')\n",
    "    data = csv.reader(f)\n",
    "    header = next(data)\n",
    "\n",
    "    max = -999\n",
    "    min = 999\n",
    "\n",
    "\n",
    "    for row in data:\n",
    "        if row[3] != '' and row[4] != '':\n",
    "            diff = float(row[4]) - float(row[3])\n",
    "\n",
    "            if diff > max:\n",
    "                max_date = row[0]\n",
    "                max = diff\n",
    "            elif diff < min:\n",
    "                min_date = row[0]\n",
    "                min = diff\n",
    "\n",
    "    print(\"*** Annual Temperature Report for Seoul in 2022 ***\")\n",
    "    print(f\"Day with the Largest Temperature Variation: {max_date}\")\n",
    "    print(f\"Maximum Temperature Difference: {max}\")\n",
    "    print(f\"Day with the Smallest Temperature Variation: {min_date}\")\n",
    "    print(f\"Minimum Temperature Difference: {round(min,1)}\")\n",
    "\n",
    "\n",
    "\n",
    "\n",
    "    f.close()"
   ]
  },
  {
   "cell_type": "code",
   "execution_count": null,
   "id": "4500b97b",
   "metadata": {},
   "outputs": [],
   "source": []
  }
 ],
 "metadata": {
  "kernelspec": {
   "display_name": "Python 3 (ipykernel)",
   "language": "python",
   "name": "python3"
  },
  "language_info": {
   "codemirror_mode": {
    "name": "ipython",
    "version": 3
   },
   "file_extension": ".py",
   "mimetype": "text/x-python",
   "name": "python",
   "nbconvert_exporter": "python",
   "pygments_lexer": "ipython3",
   "version": "3.9.6"
  }
 },
 "nbformat": 4,
 "nbformat_minor": 5
}
