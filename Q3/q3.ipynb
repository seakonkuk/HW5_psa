{
 "cells": [
  {
   "cell_type": "code",
   "execution_count": 1,
   "id": "2bdc8a61",
   "metadata": {},
   "outputs": [
    {
     "name": "stdout",
     "output_type": "stream",
     "text": [
      "*** Subway Report for Seoul on March 2023 ***\n",
      "1st Busiest Line: Line 2 (85620512)\n",
      "2nd Busiest Line: Line 5 (39671990)\n",
      "1st Least used Line: Line 8 (11863928)\n",
      "2nd Least used Line: Line 1 (14705833)\n"
     ]
    }
   ],
   "source": [
    "import csv\n",
    "\n",
    "if __name__ == '__main__':\n",
    "    f = open('subway.csv')\n",
    "    data = csv.reader(f)\n",
    "    header = next(data)\n",
    "\n",
    "    subway = {'1호선' : 0, '2호선' : 0, '3호선' : 0, '4호선' : 0, '5호선' : 0, '6호선' : 0, '7호선' : 0, '8호선' : 0, '9호선' : 0}\n",
    "\n",
    "    for row in data:\n",
    "        if row[1] in subway:\n",
    "            key = row[1]\n",
    "            total = int(row[4].replace(',', '')) + int(row[5].replace(',', ''))\n",
    "            subway[key] = (subway[key] + total)\n",
    "\n",
    "    subway_reverse = sorted(subway.items(), \n",
    "                                  reverse=True, \n",
    "                                  key=lambda item: item[1])\n",
    "\n",
    "    print(\"*** Subway Report for Seoul on March 2023 ***\")\n",
    "    print(f\"1st Busiest Line: Line {subway_reverse[0][0][0]} ({subway_reverse[0][1]})\")\n",
    "    print(f\"2nd Busiest Line: Line {subway_reverse[1][0][0]} ({subway_reverse[1][1]})\")\n",
    "    print(f\"1st Least used Line: Line {subway_reverse[-1][0][0]} ({subway_reverse[-1][1]})\")\n",
    "    print(f\"2nd Least used Line: Line {subway_reverse[-2][0][0]} ({subway_reverse[-2][1]})\")\n",
    "\n",
    "\n",
    "    f.close()"
   ]
  },
  {
   "cell_type": "code",
   "execution_count": null,
   "id": "b49e41f6",
   "metadata": {},
   "outputs": [],
   "source": []
  }
 ],
 "metadata": {
  "kernelspec": {
   "display_name": "Python 3 (ipykernel)",
   "language": "python",
   "name": "python3"
  },
  "language_info": {
   "codemirror_mode": {
    "name": "ipython",
    "version": 3
   },
   "file_extension": ".py",
   "mimetype": "text/x-python",
   "name": "python",
   "nbconvert_exporter": "python",
   "pygments_lexer": "ipython3",
   "version": "3.9.6"
  }
 },
 "nbformat": 4,
 "nbformat_minor": 5
}
