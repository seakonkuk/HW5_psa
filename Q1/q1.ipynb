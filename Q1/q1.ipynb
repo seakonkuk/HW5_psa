{
 "cells": [
  {
   "cell_type": "code",
   "execution_count": 1,
   "id": "572388a2",
   "metadata": {},
   "outputs": [
    {
     "name": "stdout",
     "output_type": "stream",
     "text": [
      "*** Annual Temperature Report for Seoul in 2022 ***\n",
      "Average Temperature: 13.26 Celsius\n",
      "Average Minimum Temperature: 9.21 Celsius\n",
      "Average Maximum Temperature: 18.05 Celsius\n"
     ]
    }
   ],
   "source": [
    "import csv\n",
    "\n",
    "if __name__ == '__main__':\n",
    "\n",
    "    f = open('2022_Seoul_Temp.csv')\n",
    "    data = csv.reader(f)\n",
    "    header = next(data)\n",
    "\n",
    "    tem_sum = 0\n",
    "    low_sum = 0\n",
    "    high_sum = 0\n",
    "    cnt = 0\n",
    "\n",
    "    for row in data:\n",
    "        if row[2] != '' and row[3] != '' and row[4] != '':\n",
    "            tem_sum += float(row[2])\n",
    "            low_sum += float(row[3])\n",
    "            high_sum += float(row[4])\n",
    "            cnt += 1\n",
    "\n",
    "    print(\"*** Annual Temperature Report for Seoul in 2022 ***\")\n",
    "    print(f\"Average Temperature: {round(tem_sum/cnt, 2)} Celsius\")\n",
    "    print(f\"Average Minimum Temperature: {round(low_sum/cnt, 2)} Celsius\")\n",
    "    print(f\"Average Maximum Temperature: {round(high_sum/cnt, 2)} Celsius\")\n",
    "\n",
    "\n",
    "    f.close()"
   ]
  },
  {
   "cell_type": "code",
   "execution_count": null,
   "id": "a84f843b",
   "metadata": {},
   "outputs": [],
   "source": []
  }
 ],
 "metadata": {
  "kernelspec": {
   "display_name": "Python 3 (ipykernel)",
   "language": "python",
   "name": "python3"
  },
  "language_info": {
   "codemirror_mode": {
    "name": "ipython",
    "version": 3
   },
   "file_extension": ".py",
   "mimetype": "text/x-python",
   "name": "python",
   "nbconvert_exporter": "python",
   "pygments_lexer": "ipython3",
   "version": "3.9.6"
  }
 },
 "nbformat": 4,
 "nbformat_minor": 5
}
